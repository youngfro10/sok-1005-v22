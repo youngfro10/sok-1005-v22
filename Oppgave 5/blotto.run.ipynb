{
 "cells": [
  {
   "cell_type": "code",
   "execution_count": 1,
   "id": "3e7dac8d-5901-4db2-a7f7-9252db713b6e",
   "metadata": {},
   "outputs": [],
   "source": [
    "import blotto\n",
    "import numpy as np"
   ]
  },
  {
   "cell_type": "code",
   "execution_count": 2,
   "id": "1dece3d0-897e-4cc6-92f3-7d0633d07de9",
   "metadata": {},
   "outputs": [],
   "source": [
    "def player_strategy(n_battalions,n_fields):\n",
    "    battalions = np.random.multinomial(100, [3/20, 3/20, 4/20, 5/20, 5/20, 0/20], size = 1)[0] # array\n",
    "\n",
    "    battalions_placement = [] # liste\n",
    "\n",
    "    for i in battalions: # loops \n",
    "        sum_battalions = sum(battalions)\n",
    "        random_choice = int(round(i / sum_battalions * 100,0))\n",
    "        battalions_placement.append(random_choice)\n",
    "\n",
    "    battalions_placement=battalions[np.random.rand(n_fields).argsort()]  \n",
    "    assert sum(battalions_placement)==n_battalions\n",
    "    return battalions_placement\n",
    "\n",
    "def computer_strategy(n_battalions, n_fields):\n",
    "    battalions = np.random.multinomial(100, np.ones(n_fields)/n_fields, size = 1)[0]\n",
    "\n",
    "    battalions_placement = []\n",
    "\n",
    "    for i in battalions:\n",
    "        sum_battalions = sum(battalions)\n",
    "        random_choice = int(round(i / sum_battalions * 100,0))\n",
    "        battalions_placement.append(random_choice)\n",
    "        \n",
    "    battalions_placement=battalions[np.random.rand(n_fields).argsort()]\n",
    "    assert sum(battalions_placement)==n_battalions\n",
    "    return battalions_placement"
   ]
  },
  {
   "cell_type": "code",
   "execution_count": 3,
   "id": "f9b62e2c-9a55-425e-86e2-f8d2ebb14569",
   "metadata": {},
   "outputs": [],
   "source": [
    "def call_battle(n_battalions,n_fields, player_strategy, computer_strategy):\n",
    "    c_battlions=computer_strategy(n_battalions,n_fields)\n",
    "    p_battlions=player_strategy(n_battalions,n_fields)\n",
    "\n",
    "    diff=p_battlions-c_battlions\n",
    "    points=sum(diff>0)-sum(diff<0)\n",
    " \n",
    "    return int(points>0)-int(points<0)\n",
    "\n",
    "def test_strategies(n_fields,n_battalions,player_strategy, computer_strategy):\n",
    "    n_tests=100000\n",
    "    r=0\n",
    "    record=[]\n",
    "    for i in range(n_tests):\n",
    "        p=call_battle(n_battalions,n_fields,\n",
    "            player_strategy, computer_strategy)\n",
    "        record.append(p)\n",
    "        r+=p\n",
    "    return r/n_tests"
   ]
  },
  {
   "cell_type": "code",
   "execution_count": 4,
   "id": "c7ad8bd5-8cc3-47aa-90ed-0843a72dd990",
   "metadata": {},
   "outputs": [
    {
     "data": {
      "text/plain": [
       "0.33314"
      ]
     },
     "execution_count": 4,
     "metadata": {},
     "output_type": "execute_result"
    }
   ],
   "source": [
    "test_strategies(6,100,player_strategy, computer_strategy)"
   ]
  },
  {
   "cell_type": "code",
   "execution_count": 5,
   "id": "049b70b5-5f8a-4d6a-b23b-3012f84f33cd",
   "metadata": {},
   "outputs": [
    {
     "ename": "AttributeError",
     "evalue": "module 'blotto' has no attribute 'run'",
     "output_type": "error",
     "traceback": [
      "\u001b[0;31m---------------------------------------------------------------------------\u001b[0m",
      "\u001b[0;31mAttributeError\u001b[0m                            Traceback (most recent call last)",
      "Input \u001b[0;32mIn [5]\u001b[0m, in \u001b[0;36m<module>\u001b[0;34m\u001b[0m\n\u001b[0;32m----> 1\u001b[0m \u001b[43mblotto\u001b[49m\u001b[38;5;241;43m.\u001b[39;49m\u001b[43mrun\u001b[49m(\u001b[38;5;241m6\u001b[39m,\u001b[38;5;241m100\u001b[39m, player_strategy, computer_strategy)\n",
      "\u001b[0;31mAttributeError\u001b[0m: module 'blotto' has no attribute 'run'"
     ]
    }
   ],
   "source": [
    "blotto.run(6,100, player_strategy, computer_strategy)"
   ]
  },
  {
   "cell_type": "code",
   "execution_count": null,
   "id": "336f421a-ea58-4388-a1ef-f9670d0fc967",
   "metadata": {},
   "outputs": [],
   "source": []
  }
 ],
 "metadata": {
  "kernelspec": {
   "display_name": "Python 3 (ipykernel)",
   "language": "python",
   "name": "python3"
  },
  "language_info": {
   "codemirror_mode": {
    "name": "ipython",
    "version": 3
   },
   "file_extension": ".py",
   "mimetype": "text/x-python",
   "name": "python",
   "nbconvert_exporter": "python",
   "pygments_lexer": "ipython3",
   "version": "3.9.9"
  }
 },
 "nbformat": 4,
 "nbformat_minor": 5
}
